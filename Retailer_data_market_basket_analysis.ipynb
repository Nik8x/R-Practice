{
  "nbformat": 4,
  "nbformat_minor": 0,
  "metadata": {
    "colab": {
      "provenance": [],
      "authorship_tag": "ABX9TyOu3/uyeBJYWfCUZazWTFSu",
      "include_colab_link": true
    },
    "kernelspec": {
      "name": "ir",
      "display_name": "R"
    },
    "language_info": {
      "name": "R"
    }
  },
  "cells": [
    {
      "cell_type": "markdown",
      "metadata": {
        "id": "view-in-github",
        "colab_type": "text"
      },
      "source": [
        "<a href=\"https://colab.research.google.com/github/Nik8x/R_Practice/blob/main/Retailer_data_market_basket_analysis.ipynb\" target=\"_parent\"><img src=\"https://colab.research.google.com/assets/colab-badge.svg\" alt=\"Open In Colab\"/></a>"
      ]
    },
    {
      "cell_type": "code",
      "execution_count": null,
      "metadata": {
        "colab": {
          "base_uri": "https://localhost:8080/"
        },
        "id": "l0QnBdZsw7Bq",
        "outputId": "942bf77c-bc40-438f-ac11-a33a6a1d998e"
      },
      "outputs": [
        {
          "output_type": "stream",
          "name": "stderr",
          "text": [
            "Installing package into ‘/usr/local/lib/R/site-library’\n",
            "(as ‘lib’ is unspecified)\n",
            "\n",
            "── \u001b[1mAttaching core tidyverse packages\u001b[22m ──────────────────────── tidyverse 2.0.0 ──\n",
            "\u001b[32m✔\u001b[39m \u001b[34mdplyr    \u001b[39m 1.1.3     \u001b[32m✔\u001b[39m \u001b[34mreadr    \u001b[39m 2.1.4\n",
            "\u001b[32m✔\u001b[39m \u001b[34mforcats  \u001b[39m 1.0.0     \u001b[32m✔\u001b[39m \u001b[34mstringr  \u001b[39m 1.5.0\n",
            "\u001b[32m✔\u001b[39m \u001b[34mggplot2  \u001b[39m 3.4.3     \u001b[32m✔\u001b[39m \u001b[34mtibble   \u001b[39m 3.2.1\n",
            "\u001b[32m✔\u001b[39m \u001b[34mlubridate\u001b[39m 1.9.3     \u001b[32m✔\u001b[39m \u001b[34mtidyr    \u001b[39m 1.3.0\n",
            "\u001b[32m✔\u001b[39m \u001b[34mpurrr    \u001b[39m 1.0.2     \n",
            "── \u001b[1mConflicts\u001b[22m ────────────────────────────────────────── tidyverse_conflicts() ──\n",
            "\u001b[31m✖\u001b[39m \u001b[34mdplyr\u001b[39m::\u001b[32mfilter()\u001b[39m masks \u001b[34mstats\u001b[39m::filter()\n",
            "\u001b[31m✖\u001b[39m \u001b[34mdplyr\u001b[39m::\u001b[32mlag()\u001b[39m    masks \u001b[34mstats\u001b[39m::lag()\n",
            "\u001b[36mℹ\u001b[39m Use the conflicted package (\u001b[3m\u001b[34m<http://conflicted.r-lib.org/>\u001b[39m\u001b[23m) to force all conflicts to become errors\n",
            "Installing package into ‘/usr/local/lib/R/site-library’\n",
            "(as ‘lib’ is unspecified)\n",
            "\n",
            "also installing the dependencies ‘numDeriv’, ‘SparseM’, ‘MatrixModels’, ‘minqa’, ‘nloptr’, ‘Rcpp’, ‘RcppEigen’, ‘carData’, ‘abind’, ‘pbkrtest’, ‘quantreg’, ‘lme4’\n",
            "\n",
            "\n",
            "Loading required package: carData\n",
            "\n",
            "\n",
            "Attaching package: ‘car’\n",
            "\n",
            "\n",
            "The following object is masked from ‘package:dplyr’:\n",
            "\n",
            "    recode\n",
            "\n",
            "\n",
            "The following object is masked from ‘package:purrr’:\n",
            "\n",
            "    some\n",
            "\n",
            "\n",
            "Installing package into ‘/usr/local/lib/R/site-library’\n",
            "(as ‘lib’ is unspecified)\n",
            "\n",
            "also installing the dependencies ‘modeltools’, ‘DEoptimR’, ‘mclust’, ‘flexmix’, ‘prabclus’, ‘diptest’, ‘robustbase’, ‘kernlab’\n",
            "\n",
            "\n",
            "Installing package into ‘/usr/local/lib/R/site-library’\n",
            "(as ‘lib’ is unspecified)\n",
            "\n",
            "Loading required package: Matrix\n",
            "\n",
            "\n",
            "Attaching package: ‘Matrix’\n",
            "\n",
            "\n",
            "The following objects are masked from ‘package:tidyr’:\n",
            "\n",
            "    expand, pack, unpack\n",
            "\n",
            "\n",
            "\n",
            "Attaching package: ‘arules’\n",
            "\n",
            "\n",
            "The following object is masked from ‘package:car’:\n",
            "\n",
            "    recode\n",
            "\n",
            "\n",
            "The following object is masked from ‘package:dplyr’:\n",
            "\n",
            "    recode\n",
            "\n",
            "\n",
            "The following objects are masked from ‘package:base’:\n",
            "\n",
            "    abbreviate, write\n",
            "\n",
            "\n",
            "Installing package into ‘/usr/local/lib/R/site-library’\n",
            "(as ‘lib’ is unspecified)\n",
            "\n",
            "also installing the dependencies ‘iterators’, ‘permute’, ‘zoo’, ‘tweenr’, ‘polyclip’, ‘gridExtra’, ‘RcppArmadillo’, ‘later’, ‘ca’, ‘foreach’, ‘gclus’, ‘qap’, ‘registry’, ‘TSP’, ‘vegan’, ‘lmtest’, ‘ggforce’, ‘ggrepel’, ‘viridis’, ‘tidygraph’, ‘graphlayouts’, ‘htmlwidgets’, ‘httpuv’, ‘crosstalk’, ‘promises’, ‘lazyeval’, ‘seriation’, ‘vcd’, ‘igraph’, ‘scatterplot3d’, ‘ggraph’, ‘DT’, ‘plotly’, ‘visNetwork’\n",
            "\n",
            "\n"
          ]
        }
      ],
      "source": [
        "install.packages(\"cluster\")\n",
        "library(\"cluster\")\n",
        "library(\"tidyverse\")\n",
        "library('readxl') # package to read excel file\n",
        "install.packages(\"car\") # installing package\n",
        "library('car') #  package for the 'some' function\n",
        "install.packages(\"fpc\") # installing package\n",
        "library(\"fpc\")\n",
        "install.packages(\"arules\") # installing package\n",
        "library(\"arules\")\n",
        "library(\"arules\") # for plotting\n",
        "install.packages(\"arulesViz\") # installing package\n",
        "library(\"arulesViz\")"
      ]
    },
    {
      "cell_type": "code",
      "source": [
        "df <- read_excel('/content/Online Retailer Data.xlsx') # loading data into a dataframe variable\n",
        "dim(df) # dimensions of the dataframe\n",
        "head(df, 2) # show top 2 records"
      ],
      "metadata": {
        "colab": {
          "base_uri": "https://localhost:8080/",
          "height": 178
        },
        "id": "gsirl0EdxEzP",
        "outputId": "576f984f-d9d6-4a91-e0f7-0081db9857d6"
      },
      "execution_count": null,
      "outputs": [
        {
          "output_type": "display_data",
          "data": {
            "text/html": [
              "<style>\n",
              ".list-inline {list-style: none; margin:0; padding: 0}\n",
              ".list-inline>li {display: inline-block}\n",
              ".list-inline>li:not(:last-child)::after {content: \"\\00b7\"; padding: 0 .5ex}\n",
              "</style>\n",
              "<ol class=list-inline><li>198433</li><li>8</li></ol>\n"
            ],
            "text/markdown": "1. 198433\n2. 8\n\n\n",
            "text/latex": "\\begin{enumerate*}\n\\item 198433\n\\item 8\n\\end{enumerate*}\n",
            "text/plain": [
              "[1] 198433      8"
            ]
          },
          "metadata": {}
        },
        {
          "output_type": "display_data",
          "data": {
            "text/html": [
              "<table class=\"dataframe\">\n",
              "<caption>A tibble: 2 × 8</caption>\n",
              "<thead>\n",
              "\t<tr><th scope=col>TransactionID</th><th scope=col>CustomerID</th><th scope=col>Order_Date</th><th scope=col>Brand</th><th scope=col>Product</th><th scope=col>Color</th><th scope=col>Size</th><th scope=col>Sales_Amount</th></tr>\n",
              "\t<tr><th scope=col>&lt;dbl&gt;</th><th scope=col>&lt;dbl&gt;</th><th scope=col>&lt;dttm&gt;</th><th scope=col>&lt;chr&gt;</th><th scope=col>&lt;chr&gt;</th><th scope=col>&lt;chr&gt;</th><th scope=col>&lt;chr&gt;</th><th scope=col>&lt;dbl&gt;</th></tr>\n",
              "</thead>\n",
              "<tbody>\n",
              "\t<tr><td>586916</td><td>666668</td><td>2020-04-16</td><td>Under Armour</td><td>V-Neck</td><td>NEON       </td><td>32</td><td>14</td></tr>\n",
              "\t<tr><td>586916</td><td>666668</td><td>2020-04-16</td><td>Under Armour</td><td>Shorts</td><td>BRIGHT PINK</td><td>24</td><td> 3</td></tr>\n",
              "</tbody>\n",
              "</table>\n"
            ],
            "text/markdown": "\nA tibble: 2 × 8\n\n| TransactionID &lt;dbl&gt; | CustomerID &lt;dbl&gt; | Order_Date &lt;dttm&gt; | Brand &lt;chr&gt; | Product &lt;chr&gt; | Color &lt;chr&gt; | Size &lt;chr&gt; | Sales_Amount &lt;dbl&gt; |\n|---|---|---|---|---|---|---|---|\n| 586916 | 666668 | 2020-04-16 | Under Armour | V-Neck | NEON        | 32 | 14 |\n| 586916 | 666668 | 2020-04-16 | Under Armour | Shorts | BRIGHT PINK | 24 |  3 |\n\n",
            "text/latex": "A tibble: 2 × 8\n\\begin{tabular}{llllllll}\n TransactionID & CustomerID & Order\\_Date & Brand & Product & Color & Size & Sales\\_Amount\\\\\n <dbl> & <dbl> & <dttm> & <chr> & <chr> & <chr> & <chr> & <dbl>\\\\\n\\hline\n\t 586916 & 666668 & 2020-04-16 & Under Armour & V-Neck & NEON        & 32 & 14\\\\\n\t 586916 & 666668 & 2020-04-16 & Under Armour & Shorts & BRIGHT PINK & 24 &  3\\\\\n\\end{tabular}\n",
            "text/plain": [
              "  TransactionID CustomerID Order_Date Brand        Product Color       Size\n",
              "1 586916        666668     2020-04-16 Under Armour V-Neck  NEON        32  \n",
              "2 586916        666668     2020-04-16 Under Armour Shorts  BRIGHT PINK 24  \n",
              "  Sales_Amount\n",
              "1 14          \n",
              "2  3          "
            ]
          },
          "metadata": {}
        }
      ]
    },
    {
      "cell_type": "code",
      "source": [
        "tail(df, 2) # show last 2 records"
      ],
      "metadata": {
        "colab": {
          "base_uri": "https://localhost:8080/",
          "height": 160
        },
        "id": "06vglFL1xUER",
        "outputId": "818704fd-f988-412e-a0fb-d8570cc0077d"
      },
      "execution_count": null,
      "outputs": [
        {
          "output_type": "display_data",
          "data": {
            "text/html": [
              "<table class=\"dataframe\">\n",
              "<caption>A tibble: 2 × 8</caption>\n",
              "<thead>\n",
              "\t<tr><th scope=col>TransactionID</th><th scope=col>CustomerID</th><th scope=col>Order_Date</th><th scope=col>Brand</th><th scope=col>Product</th><th scope=col>Color</th><th scope=col>Size</th><th scope=col>Sales_Amount</th></tr>\n",
              "\t<tr><th scope=col>&lt;dbl&gt;</th><th scope=col>&lt;dbl&gt;</th><th scope=col>&lt;dttm&gt;</th><th scope=col>&lt;chr&gt;</th><th scope=col>&lt;chr&gt;</th><th scope=col>&lt;chr&gt;</th><th scope=col>&lt;chr&gt;</th><th scope=col>&lt;dbl&gt;</th></tr>\n",
              "</thead>\n",
              "<tbody>\n",
              "\t<tr><td>592671</td><td>157594</td><td>2020-04-16</td><td>Nike  </td><td>Strapless</td><td>BLACK            </td><td>38D    </td><td>25</td></tr>\n",
              "\t<tr><td>592671</td><td>157595</td><td>2020-04-16</td><td>Adidas</td><td>Racerback</td><td>BLACK/MEDIUM GREY</td><td>X LARGE</td><td>18</td></tr>\n",
              "</tbody>\n",
              "</table>\n"
            ],
            "text/markdown": "\nA tibble: 2 × 8\n\n| TransactionID &lt;dbl&gt; | CustomerID &lt;dbl&gt; | Order_Date &lt;dttm&gt; | Brand &lt;chr&gt; | Product &lt;chr&gt; | Color &lt;chr&gt; | Size &lt;chr&gt; | Sales_Amount &lt;dbl&gt; |\n|---|---|---|---|---|---|---|---|\n| 592671 | 157594 | 2020-04-16 | Nike   | Strapless | BLACK             | 38D     | 25 |\n| 592671 | 157595 | 2020-04-16 | Adidas | Racerback | BLACK/MEDIUM GREY | X LARGE | 18 |\n\n",
            "text/latex": "A tibble: 2 × 8\n\\begin{tabular}{llllllll}\n TransactionID & CustomerID & Order\\_Date & Brand & Product & Color & Size & Sales\\_Amount\\\\\n <dbl> & <dbl> & <dttm> & <chr> & <chr> & <chr> & <chr> & <dbl>\\\\\n\\hline\n\t 592671 & 157594 & 2020-04-16 & Nike   & Strapless & BLACK             & 38D     & 25\\\\\n\t 592671 & 157595 & 2020-04-16 & Adidas & Racerback & BLACK/MEDIUM GREY & X LARGE & 18\\\\\n\\end{tabular}\n",
            "text/plain": [
              "  TransactionID CustomerID Order_Date Brand  Product   Color            \n",
              "1 592671        157594     2020-04-16 Nike   Strapless BLACK            \n",
              "2 592671        157595     2020-04-16 Adidas Racerback BLACK/MEDIUM GREY\n",
              "  Size    Sales_Amount\n",
              "1 38D     25          \n",
              "2 X LARGE 18          "
            ]
          },
          "metadata": {}
        }
      ]
    },
    {
      "cell_type": "code",
      "source": [
        "str(df) # structure of the dataframe"
      ],
      "metadata": {
        "colab": {
          "base_uri": "https://localhost:8080/"
        },
        "id": "2D_4vmobxVBi",
        "outputId": "1ef166d4-7cf6-4fc8-fa8f-4e89a26e1e6a"
      },
      "execution_count": null,
      "outputs": [
        {
          "output_type": "stream",
          "name": "stdout",
          "text": [
            "tibble [198,433 × 8] (S3: tbl_df/tbl/data.frame)\n",
            " $ TransactionID: num [1:198433] 586916 586916 589601 589357 589357 ...\n",
            " $ CustomerID   : num [1:198433] 666668 666668 666714 666742 666742 ...\n",
            " $ Order_Date   : POSIXct[1:198433], format: \"2020-04-16\" \"2020-04-16\" ...\n",
            " $ Brand        : chr [1:198433] \"Under Armour\" \"Under Armour\" \"Under Armour\" \"New Balance\" ...\n",
            " $ Product      : chr [1:198433] \"V-Neck\" \"Shorts\" \"Sports Bra\" \"Polo\" ...\n",
            " $ Color        : chr [1:198433] \"NEON\" \"BRIGHT PINK\" \"WHITE\" \"NAVY\" ...\n",
            " $ Size         : chr [1:198433] \"32\" \"24\" \"44B\" \"2X LARGE\" ...\n",
            " $ Sales_Amount : num [1:198433] 14 3 56 27 53 45 64 18 18 23 ...\n"
          ]
        }
      ]
    },
    {
      "cell_type": "code",
      "source": [
        "summary(df) # summary of all the variables of the dataframe"
      ],
      "metadata": {
        "colab": {
          "base_uri": "https://localhost:8080/",
          "height": 396
        },
        "id": "6XsyY76IxU-A",
        "outputId": "9f4fc341-a2bf-409c-b06c-c3a76047e9e8"
      },
      "execution_count": null,
      "outputs": [
        {
          "output_type": "display_data",
          "data": {
            "text/plain": [
              " TransactionID       CustomerID        Order_Date                    \n",
              " Min.   :     13   Min.   : 150391   Min.   :2017-01-05 00:00:00.00  \n",
              " 1st Qu.: 435313   1st Qu.: 153491   1st Qu.:2017-12-13 00:00:00.00  \n",
              " Median : 848855   Median : 156832   Median :2018-11-07 00:00:00.00  \n",
              " Mean   : 873627   Mean   : 162958   Mean   :2018-11-04 22:36:54.53  \n",
              " 3rd Qu.:1320497   3rd Qu.: 162259   3rd Qu.:2019-10-09 00:00:00.00  \n",
              " Max.   :1770517   Max.   :2422694   Max.   :2020-08-06 00:00:00.00  \n",
              "    Brand             Product             Color               Size          \n",
              " Length:198433      Length:198433      Length:198433      Length:198433     \n",
              " Class :character   Class :character   Class :character   Class :character  \n",
              " Mode  :character   Mode  :character   Mode  :character   Mode  :character  \n",
              "                                                                            \n",
              "                                                                            \n",
              "                                                                            \n",
              "  Sales_Amount    \n",
              " Min.   :   0.00  \n",
              " 1st Qu.:   9.00  \n",
              " Median :  14.00  \n",
              " Mean   :  20.43  \n",
              " 3rd Qu.:  25.00  \n",
              " Max.   :1026.00  "
            ]
          },
          "metadata": {}
        }
      ]
    },
    {
      "cell_type": "code",
      "source": [
        "# Extract the month and create a new column\n",
        "df$OrderMonth <- format(df$Order_Date, \"%m\")\n",
        "\n",
        "# convert the columns to factor if it's not already\n",
        "df$TransactionID <- as.factor(df$TransactionID)\n",
        "df$CustomerID <- as.factor(df$CustomerID)\n",
        "df$OrderMonth <- as.factor(df$OrderMonth)\n",
        "df$Brand <- as.factor(df$Brand)\n",
        "df$Product <- as.factor(df$Product)\n",
        "df$Color <- as.factor(df$Color)\n",
        "df$Size <- as.factor(df$Size)"
      ],
      "metadata": {
        "id": "Rd_7E8Hmtce4"
      },
      "execution_count": null,
      "outputs": []
    },
    {
      "cell_type": "code",
      "source": [
        "str(df) # structure of the dataframe"
      ],
      "metadata": {
        "colab": {
          "base_uri": "https://localhost:8080/"
        },
        "id": "VcUO797tzZJK",
        "outputId": "19a752b3-e6a2-4958-c35e-3e7a302ed3cf"
      },
      "execution_count": null,
      "outputs": [
        {
          "output_type": "stream",
          "name": "stdout",
          "text": [
            "tibble [198,433 × 9] (S3: tbl_df/tbl/data.frame)\n",
            " $ TransactionID: Factor w/ 69593 levels \"13\",\"35\",\"87\",..: 23730 23730 23838 23829 23829 23839 23960 23679 23679 23679 ...\n",
            " $ CustomerID   : Factor w/ 17449 levels \"150391\",\"150392\",..: 17291 17291 17292 17293 17293 17294 17295 17296 17296 17296 ...\n",
            " $ Order_Date   : POSIXct[1:198433], format: \"2020-04-16\" \"2020-04-16\" ...\n",
            " $ Brand        : Factor w/ 8 levels \"Adidas\",\"Diadora\",..: 8 8 8 3 3 3 1 3 3 3 ...\n",
            " $ Product      : Factor w/ 77 levels \"Ankle\",\"Belt\",..: 74 51 56 47 16 5 16 7 7 7 ...\n",
            " $ Color        : Factor w/ 3698 levels \"AERO\",\"AFRIC VIOL\",..: 1795 612 3018 1738 3018 3018 217 75 75 1853 ...\n",
            " $ Size         : Factor w/ 237 levels \"10\",\"10-12\",\"10-13\",..: 42 25 116 32 192 223 201 172 175 172 ...\n",
            " $ Sales_Amount : num [1:198433] 14 3 56 27 53 45 64 18 18 23 ...\n",
            " $ OrderMonth   : Factor w/ 12 levels \"01\",\"02\",\"03\",..: 4 4 4 4 4 4 4 4 4 4 ...\n"
          ]
        }
      ]
    },
    {
      "cell_type": "code",
      "source": [
        "summary(df) # summary of all the variables of the dataframe"
      ],
      "metadata": {
        "colab": {
          "base_uri": "https://localhost:8080/",
          "height": 450
        },
        "id": "6xCLnvsbzPGd",
        "outputId": "9b616eac-9792-4181-e67d-de06435644c5"
      },
      "execution_count": null,
      "outputs": [
        {
          "output_type": "display_data",
          "data": {
            "text/plain": [
              " TransactionID      CustomerID       Order_Date                    \n",
              " 829450 :    38   1078824:    35   Min.   :2017-01-05 00:00:00.00  \n",
              " 1454345:    38   1264796:    32   1st Qu.:2017-12-13 00:00:00.00  \n",
              " 1754871:    38   2200703:    25   Median :2018-11-07 00:00:00.00  \n",
              " 624348 :    37   1981627:    24   Mean   :2018-11-04 22:36:54.53  \n",
              " 1056506:    36   754536 :    18   3rd Qu.:2019-10-09 00:00:00.00  \n",
              " 437399 :    35   1635998:    18   Max.   :2020-08-06 00:00:00.00  \n",
              " (Other):198211   (Other):198281                                   \n",
              "          Brand              Product              Color              Size      \n",
              " New Balance :107913   Crewneck  :46937   WHITE      : 22935   LARGE   :26865  \n",
              " Nike        : 38798   Underwire :23945   BLACK      : 21966   X LARGE :23480  \n",
              " Adidas      : 22738   Pants     :14092   ASSORTED   : 16452   MEDIUM  :21128  \n",
              " Under Armour: 19832   V-Neck    :14074   NAVY       :  7629   2X LARGE:14573  \n",
              " Silkies     :  7243   Brief     :10901   NUDE       :  6251   SMALL   :10200  \n",
              " Ted Baker   :   950   Sports Bra: 9474   LIGHT STEEL:  5436   3X LARGE: 6980  \n",
              " (Other)     :   959   (Other)   :79010   (Other)    :117764   (Other) :95207  \n",
              "  Sales_Amount       OrderMonth   \n",
              " Min.   :   0.00   05     :20603  \n",
              " 1st Qu.:   9.00   03     :18509  \n",
              " Median :  14.00   06     :18225  \n",
              " Mean   :  20.43   04     :17564  \n",
              " 3rd Qu.:  25.00   07     :17535  \n",
              " Max.   :1026.00   11     :17241  \n",
              "                   (Other):88756  "
            ]
          },
          "metadata": {}
        }
      ]
    },
    {
      "cell_type": "code",
      "source": [
        "sapply(df, function(x){sum(is.na(x))}) # check for any missing data"
      ],
      "metadata": {
        "colab": {
          "base_uri": "https://localhost:8080/",
          "height": 34
        },
        "id": "iHWgkbAsxU7V",
        "outputId": "0cc75cd7-b033-4cf0-c6b3-a3e1d89b9325"
      },
      "execution_count": null,
      "outputs": [
        {
          "output_type": "display_data",
          "data": {
            "text/html": [
              "<style>\n",
              ".dl-inline {width: auto; margin:0; padding: 0}\n",
              ".dl-inline>dt, .dl-inline>dd {float: none; width: auto; display: inline-block}\n",
              ".dl-inline>dt::after {content: \":\\0020\"; padding-right: .5ex}\n",
              ".dl-inline>dt:not(:first-of-type) {padding-left: .5ex}\n",
              "</style><dl class=dl-inline><dt>TransactionID</dt><dd>0</dd><dt>CustomerID</dt><dd>0</dd><dt>Order_Date</dt><dd>0</dd><dt>Brand</dt><dd>0</dd><dt>Product</dt><dd>0</dd><dt>Color</dt><dd>0</dd><dt>Size</dt><dd>0</dd><dt>Sales_Amount</dt><dd>0</dd><dt>OrderMonth</dt><dd>0</dd></dl>\n"
            ],
            "text/markdown": "TransactionID\n:   0CustomerID\n:   0Order_Date\n:   0Brand\n:   0Product\n:   0Color\n:   0Size\n:   0Sales_Amount\n:   0OrderMonth\n:   0\n\n",
            "text/latex": "\\begin{description*}\n\\item[TransactionID] 0\n\\item[CustomerID] 0\n\\item[Order\\textbackslash{}\\_Date] 0\n\\item[Brand] 0\n\\item[Product] 0\n\\item[Color] 0\n\\item[Size] 0\n\\item[Sales\\textbackslash{}\\_Amount] 0\n\\item[OrderMonth] 0\n\\end{description*}\n",
            "text/plain": [
              "TransactionID    CustomerID    Order_Date         Brand       Product \n",
              "            0             0             0             0             0 \n",
              "        Color          Size  Sales_Amount    OrderMonth \n",
              "            0             0             0             0 "
            ]
          },
          "metadata": {}
        }
      ]
    },
    {
      "cell_type": "code",
      "source": [
        "# exclude the TransactionNo, CustomerID, transaction date and product description and model the data\n",
        "# df <- df %>% select(-TransactionID, -CustomerID, -Order_Date) %>% scale()\n",
        "# dropping columns which are not that relevant\n",
        "df$TransactionID <- NULL\n",
        "df$CustomerID <- NULL\n",
        "df$Order_Date <- NULL\n",
        "some(df, 5) # to observe random obervations from the dataframe"
      ],
      "metadata": {
        "colab": {
          "base_uri": "https://localhost:8080/",
          "height": 254
        },
        "id": "FYDVuPePtoJh",
        "outputId": "94010a31-198e-4320-b324-d564d947f9c6"
      },
      "execution_count": null,
      "outputs": [
        {
          "output_type": "display_data",
          "data": {
            "text/html": [
              "<table class=\"dataframe\">\n",
              "<caption>A tibble: 5 × 6</caption>\n",
              "<thead>\n",
              "\t<tr><th scope=col>Brand</th><th scope=col>Product</th><th scope=col>Color</th><th scope=col>Size</th><th scope=col>Sales_Amount</th><th scope=col>OrderMonth</th></tr>\n",
              "\t<tr><th scope=col>&lt;fct&gt;</th><th scope=col>&lt;fct&gt;</th><th scope=col>&lt;fct&gt;</th><th scope=col>&lt;fct&gt;</th><th scope=col>&lt;dbl&gt;</th><th scope=col>&lt;fct&gt;</th></tr>\n",
              "</thead>\n",
              "<tbody>\n",
              "\t<tr><td>New Balance</td><td>Hooded Jacket</td><td>EBONY        </td><td>LARGE  </td><td>20</td><td>06</td></tr>\n",
              "\t<tr><td>Nike       </td><td>Underwire    </td><td>WHITE        </td><td>48DD   </td><td>23</td><td>06</td></tr>\n",
              "\t<tr><td>Nike       </td><td>Underwire    </td><td>SILVER LINING</td><td>36D    </td><td>14</td><td>07</td></tr>\n",
              "\t<tr><td>New Balance</td><td>Crewneck     </td><td>LIGHT STEEL  </td><td>X LARGE</td><td> 7</td><td>04</td></tr>\n",
              "\t<tr><td>New Balance</td><td>Pants        </td><td>DEEP ROYAL   </td><td>SMALL  </td><td> 7</td><td>11</td></tr>\n",
              "</tbody>\n",
              "</table>\n"
            ],
            "text/markdown": "\nA tibble: 5 × 6\n\n| Brand &lt;fct&gt; | Product &lt;fct&gt; | Color &lt;fct&gt; | Size &lt;fct&gt; | Sales_Amount &lt;dbl&gt; | OrderMonth &lt;fct&gt; |\n|---|---|---|---|---|---|\n| New Balance | Hooded Jacket | EBONY         | LARGE   | 20 | 06 |\n| Nike        | Underwire     | WHITE         | 48DD    | 23 | 06 |\n| Nike        | Underwire     | SILVER LINING | 36D     | 14 | 07 |\n| New Balance | Crewneck      | LIGHT STEEL   | X LARGE |  7 | 04 |\n| New Balance | Pants         | DEEP ROYAL    | SMALL   |  7 | 11 |\n\n",
            "text/latex": "A tibble: 5 × 6\n\\begin{tabular}{llllll}\n Brand & Product & Color & Size & Sales\\_Amount & OrderMonth\\\\\n <fct> & <fct> & <fct> & <fct> & <dbl> & <fct>\\\\\n\\hline\n\t New Balance & Hooded Jacket & EBONY         & LARGE   & 20 & 06\\\\\n\t Nike        & Underwire     & WHITE         & 48DD    & 23 & 06\\\\\n\t Nike        & Underwire     & SILVER LINING & 36D     & 14 & 07\\\\\n\t New Balance & Crewneck      & LIGHT STEEL   & X LARGE &  7 & 04\\\\\n\t New Balance & Pants         & DEEP ROYAL    & SMALL   &  7 & 11\\\\\n\\end{tabular}\n",
            "text/plain": [
              "  Brand       Product       Color         Size    Sales_Amount OrderMonth\n",
              "1 New Balance Hooded Jacket EBONY         LARGE   20           06        \n",
              "2 Nike        Underwire     WHITE         48DD    23           06        \n",
              "3 Nike        Underwire     SILVER LINING 36D     14           07        \n",
              "4 New Balance Crewneck      LIGHT STEEL   X LARGE  7           04        \n",
              "5 New Balance Pants         DEEP ROYAL    SMALL    7           11        "
            ]
          },
          "metadata": {}
        }
      ]
    },
    {
      "cell_type": "code",
      "source": [
        "# to find association among the items, we will use apriori\n",
        "df_ap <- apriori(df, parameter = list(supp = 0.02, conf = 0.8, target = \"rules\"))\n",
        "# minimum support or frequency of 2%, considering low frequency to capture wider range\n",
        "# confidence is the conditional probability, here 80% which is higher level\n",
        "# we can change the support and confidence to change the \"sorting and recoding items\" below"
      ],
      "metadata": {
        "colab": {
          "base_uri": "https://localhost:8080/"
        },
        "id": "wfWbzubpxUz2",
        "outputId": "c0d43f09-aaeb-438e-9be2-04d3d698b873"
      },
      "execution_count": null,
      "outputs": [
        {
          "output_type": "stream",
          "name": "stderr",
          "text": [
            "Warning message:\n",
            "“Column(s) 5 not logical or factor. Applying default discretization (see '? discretizeDF').”\n"
          ]
        },
        {
          "output_type": "stream",
          "name": "stdout",
          "text": [
            "Apriori\n",
            "\n",
            "Parameter specification:\n",
            " confidence minval smax arem  aval originalSupport maxtime support minlen\n",
            "        0.8    0.1    1 none FALSE            TRUE       5    0.02      1\n",
            " maxlen target  ext\n",
            "     10  rules TRUE\n",
            "\n",
            "Algorithmic control:\n",
            " filter tree heap memopt load sort verbose\n",
            "    0.1 TRUE TRUE  FALSE TRUE    2    TRUE\n",
            "\n",
            "Absolute minimum support count: 3968 \n",
            "\n",
            "set item appearances ...[0 item(s)] done [0.00s].\n",
            "set transactions ...[4035 item(s), 198433 transaction(s)] done [0.35s].\n",
            "sorting and recoding items ... [44 item(s)] done [0.01s].\n",
            "creating transaction tree ... done [0.15s].\n",
            "checking subsets of size 1 2 3 4 done [0.00s].\n",
            "writing ... [30 rule(s)] done [0.00s].\n",
            "creating S4 object  ... done [0.04s].\n"
          ]
        }
      ]
    },
    {
      "cell_type": "code",
      "source": [
        "# lets examine the association rule with inspect. using lift>8 as the no. of observation is too high and we want to investigate a subset\n",
        "# lift means how much chance is there of purchasing item B when item A is being purchased, also keeping in control the popularity of iteam B\n",
        "inspect(subset(df_ap, lift > 8))"
      ],
      "metadata": {
        "colab": {
          "base_uri": "https://localhost:8080/"
        },
        "id": "HzRRGiehxUsh",
        "outputId": "480e6423-1106-4da6-9eb7-a5de2bf5c02d"
      },
      "execution_count": null,
      "outputs": [
        {
          "output_type": "stream",
          "name": "stdout",
          "text": [
            "    lhs                      rhs                 support    confidence\n",
            "[1] {Product=Boxer Brief} => {Color=ASSORTED}    0.02094410 0.8956897 \n",
            "[2] {Product=Pantyhose}   => {Brand=Silkies}     0.03356801 1.0000000 \n",
            "[3] {Brand=Silkies}       => {Product=Pantyhose} 0.03356801 0.9196466 \n",
            "    coverage   lift     count\n",
            "[1] 0.02338321 10.80321 4156 \n",
            "[2] 0.03356801 27.39652 6661 \n",
            "[3] 0.03650099 27.39652 6661 \n"
          ]
        }
      ]
    },
    {
      "cell_type": "code",
      "source": [
        "# sorting by supprt\n",
        "df_ap_sup <- sort(df_ap, by = \"support\", decreasing = TRUE)\n",
        "inspect(df_ap_sup[1:10])"
      ],
      "metadata": {
        "colab": {
          "base_uri": "https://localhost:8080/"
        },
        "id": "fcxXIRId2Jqh",
        "outputId": "fbe30c7f-1f3b-43c7-b749-50686a890673"
      },
      "execution_count": null,
      "outputs": [
        {
          "output_type": "stream",
          "name": "stdout",
          "text": [
            "     lhs                             rhs                    support confidence   coverage     lift count\n",
            "[1]  {Product=Crewneck}           => {Brand=New Balance} 0.19786527  0.8365043 0.23653828 1.538184 39263\n",
            "[2]  {Product=Crewneck,                                                                                 \n",
            "      Sales_Amount=[0,11)}        => {Brand=New Balance} 0.11643225  0.8870460 0.13125841 1.631121 23104\n",
            "[3]  {Product=Underwire}          => {Brand=Nike}        0.10599547  0.8783880 0.12067045 4.492530 21033\n",
            "[4]  {Product=Underwire,                                                                                \n",
            "      Sales_Amount=[22,1.03e+03]} => {Brand=Nike}        0.08351433  0.9308544 0.08971794 4.760870 16572\n",
            "[5]  {Color=ASSORTED}             => {Brand=New Balance} 0.07562754  0.9121687 0.08290960 1.677318 15007\n",
            "[6]  {Size=2X LARGE}              => {Brand=New Balance} 0.05945584  0.8095794 0.07344041 1.488674 11798\n",
            "[7]  {Size=LARGE,                                                                                       \n",
            "      Sales_Amount=[0,11)}        => {Brand=New Balance} 0.04749714  0.9529828 0.04984050 1.752368  9425\n",
            "[8]  {Product=Crewneck,                                                                                 \n",
            "      Size=LARGE}                 => {Brand=New Balance} 0.04579883  0.9162214 0.04998665 1.684770  9088\n",
            "[9]  {Product=Crewneck,                                                                                 \n",
            "      Size=X LARGE}               => {Brand=New Balance} 0.04388887  0.9174128 0.04783983 1.686961  8709\n",
            "[10] {Size=X LARGE,                                                                                     \n",
            "      Sales_Amount=[0,11)}        => {Brand=New Balance} 0.04380320  0.9635295 0.04546119 1.771761  8692\n"
          ]
        }
      ]
    },
    {
      "cell_type": "code",
      "source": [
        "# sorting by confidence\n",
        "df_ap_con <- sort(df_ap, by = \"confidence\", decreasing = TRUE)\n",
        "inspect(df_ap_con[1:10])"
      ],
      "metadata": {
        "colab": {
          "base_uri": "https://localhost:8080/"
        },
        "id": "VBblGuq32qY_",
        "outputId": "e00a4cb5-3798-4906-ce53-4b3380558c07"
      },
      "execution_count": null,
      "outputs": [
        {
          "output_type": "stream",
          "name": "stdout",
          "text": [
            "     lhs                             rhs                    support confidence   coverage      lift count\n",
            "[1]  {Product=Pantyhose}          => {Brand=Silkies}     0.03356801  1.0000000 0.03356801 27.396521  6661\n",
            "[2]  {Product=Crewneck,                                                                                  \n",
            "      Size=X LARGE,                                                                                      \n",
            "      Sales_Amount=[0,11)}        => {Brand=New Balance} 0.02596846  0.9798441 0.02650265  1.801761  5153\n",
            "[3]  {Size=2X LARGE,                                                                                     \n",
            "      Sales_Amount=[0,11)}        => {Brand=New Balance} 0.02933484  0.9725982 0.03016131  1.788437  5821\n",
            "[4]  {Product=Crewneck,                                                                                  \n",
            "      Size=LARGE,                                                                                        \n",
            "      Sales_Amount=[0,11)}        => {Brand=New Balance} 0.02755086  0.9715657 0.02835718  1.786538  5467\n",
            "[5]  {Size=X LARGE,                                                                                      \n",
            "      Sales_Amount=[0,11)}        => {Brand=New Balance} 0.04380320  0.9635295 0.04546119  1.771761  8692\n",
            "[6]  {Size=LARGE,                                                                                        \n",
            "      Sales_Amount=[0,11)}        => {Brand=New Balance} 0.04749714  0.9529828 0.04984050  1.752368  9425\n",
            "[7]  {Size=MEDIUM,                                                                                       \n",
            "      Sales_Amount=[0,11)}        => {Brand=New Balance} 0.03256515  0.9422572 0.03456078  1.732645  6462\n",
            "[8]  {Product=Underwire,                                                                                 \n",
            "      Sales_Amount=[22,1.03e+03]} => {Brand=Nike}        0.08351433  0.9308544 0.08971794  4.760870 16572\n",
            "[9]  {Brand=Silkies}              => {Product=Pantyhose} 0.03356801  0.9196466 0.03650099 27.396521  6661\n",
            "[10] {Product=Crewneck,                                                                                  \n",
            "      Size=X LARGE}               => {Brand=New Balance} 0.04388887  0.9174128 0.04783983  1.686961  8709\n"
          ]
        }
      ]
    },
    {
      "cell_type": "code",
      "source": [
        "# sorting by lift\n",
        "df_ap_lift <- sort(df_ap, by = \"lift\", decreasing = TRUE)\n",
        "inspect(df_ap_lift[1:10])"
      ],
      "metadata": {
        "colab": {
          "base_uri": "https://localhost:8080/"
        },
        "id": "6EHZdpHo23DJ",
        "outputId": "2bc93ced-4217-4f25-9272-fc6c462e8df2"
      },
      "execution_count": null,
      "outputs": [
        {
          "output_type": "stream",
          "name": "stdout",
          "text": [
            "     lhs                             rhs                             support confidence   coverage      lift count\n",
            "[1]  {Product=Pantyhose}          => {Brand=Silkies}              0.03356801  1.0000000 0.03356801 27.396521  6661\n",
            "[2]  {Brand=Silkies}              => {Product=Pantyhose}          0.03356801  0.9196466 0.03650099 27.396521  6661\n",
            "[3]  {Product=Boxer Brief}        => {Color=ASSORTED}             0.02094410  0.8956897 0.02338321 10.803208  4156\n",
            "[4]  {Product=Underwire,                                                                                          \n",
            "      Sales_Amount=[22,1.03e+03]} => {Brand=Nike}                 0.08351433  0.9308544 0.08971794  4.760870 16572\n",
            "[5]  {Product=Underwire}          => {Brand=Nike}                 0.10599547  0.8783880 0.12067045  4.492530 21033\n",
            "[6]  {Brand=Nike,                                                                                                 \n",
            "      Color=WHITE}                => {Sales_Amount=[22,1.03e+03]} 0.02360998  0.8197725 0.02880065  2.308390  4685\n",
            "[7]  {Brand=Nike,                                                                                                 \n",
            "      Product=Sports Bra}         => {Sales_Amount=[22,1.03e+03]} 0.02009746  0.8182191 0.02456245  2.304016  3988\n",
            "[8]  {Product=Crewneck,                                                                                           \n",
            "      Size=X LARGE,                                                                                               \n",
            "      Sales_Amount=[0,11)}        => {Brand=New Balance}          0.02596846  0.9798441 0.02650265  1.801761  5153\n",
            "[9]  {Size=2X LARGE,                                                                                              \n",
            "      Sales_Amount=[0,11)}        => {Brand=New Balance}          0.02933484  0.9725982 0.03016131  1.788437  5821\n",
            "[10] {Product=Crewneck,                                                                                           \n",
            "      Size=LARGE,                                                                                                 \n",
            "      Sales_Amount=[0,11)}        => {Brand=New Balance}          0.02755086  0.9715657 0.02835718  1.786538  5467\n"
          ]
        }
      ]
    },
    {
      "cell_type": "code",
      "source": [
        "# lets inspect redundant rules\n",
        "df_red <- is.redundant(df_ap)\n",
        "df_red\n",
        "summary(df_red)"
      ],
      "metadata": {
        "colab": {
          "base_uri": "https://localhost:8080/",
          "height": 88
        },
        "id": "x0XMzqI73KJ9",
        "outputId": "0196be6f-94ad-4954-e47f-b5a8197f5000"
      },
      "execution_count": null,
      "outputs": [
        {
          "output_type": "display_data",
          "data": {
            "text/html": [
              "<style>\n",
              ".list-inline {list-style: none; margin:0; padding: 0}\n",
              ".list-inline>li {display: inline-block}\n",
              ".list-inline>li:not(:last-child)::after {content: \"\\00b7\"; padding: 0 .5ex}\n",
              "</style>\n",
              "<ol class=list-inline><li>FALSE</li><li>FALSE</li><li>FALSE</li><li>FALSE</li><li>FALSE</li><li>FALSE</li><li>FALSE</li><li>FALSE</li><li>FALSE</li><li>FALSE</li><li>FALSE</li><li>FALSE</li><li>FALSE</li><li>TRUE</li><li>FALSE</li><li>FALSE</li><li>FALSE</li><li>FALSE</li><li>FALSE</li><li>FALSE</li><li>FALSE</li><li>FALSE</li><li>FALSE</li><li>FALSE</li><li>FALSE</li><li>FALSE</li><li>FALSE</li><li>FALSE</li><li>FALSE</li><li>FALSE</li></ol>\n"
            ],
            "text/markdown": "1. FALSE\n2. FALSE\n3. FALSE\n4. FALSE\n5. FALSE\n6. FALSE\n7. FALSE\n8. FALSE\n9. FALSE\n10. FALSE\n11. FALSE\n12. FALSE\n13. FALSE\n14. TRUE\n15. FALSE\n16. FALSE\n17. FALSE\n18. FALSE\n19. FALSE\n20. FALSE\n21. FALSE\n22. FALSE\n23. FALSE\n24. FALSE\n25. FALSE\n26. FALSE\n27. FALSE\n28. FALSE\n29. FALSE\n30. FALSE\n\n\n",
            "text/latex": "\\begin{enumerate*}\n\\item FALSE\n\\item FALSE\n\\item FALSE\n\\item FALSE\n\\item FALSE\n\\item FALSE\n\\item FALSE\n\\item FALSE\n\\item FALSE\n\\item FALSE\n\\item FALSE\n\\item FALSE\n\\item FALSE\n\\item TRUE\n\\item FALSE\n\\item FALSE\n\\item FALSE\n\\item FALSE\n\\item FALSE\n\\item FALSE\n\\item FALSE\n\\item FALSE\n\\item FALSE\n\\item FALSE\n\\item FALSE\n\\item FALSE\n\\item FALSE\n\\item FALSE\n\\item FALSE\n\\item FALSE\n\\end{enumerate*}\n",
            "text/plain": [
              " [1] FALSE FALSE FALSE FALSE FALSE FALSE FALSE FALSE FALSE FALSE FALSE FALSE\n",
              "[13] FALSE  TRUE FALSE FALSE FALSE FALSE FALSE FALSE FALSE FALSE FALSE FALSE\n",
              "[25] FALSE FALSE FALSE FALSE FALSE FALSE"
            ]
          },
          "metadata": {}
        },
        {
          "output_type": "display_data",
          "data": {
            "text/plain": [
              "   Mode   FALSE    TRUE \n",
              "logical      29       1 "
            ]
          },
          "metadata": {}
        }
      ]
    },
    {
      "cell_type": "code",
      "source": [
        "# above 20 are redundant,we can remove them\n",
        "df_ap_r <- df_ap[- df_red]\n",
        "df_ap_r"
      ],
      "metadata": {
        "colab": {
          "base_uri": "https://localhost:8080/",
          "height": 35
        },
        "id": "xSdr2oxU3w8q",
        "outputId": "45d22cce-4586-400d-94be-a593bb959081"
      },
      "execution_count": null,
      "outputs": [
        {
          "output_type": "display_data",
          "data": {
            "text/plain": [
              "set of 29 rules "
            ]
          },
          "metadata": {}
        }
      ]
    },
    {
      "cell_type": "code",
      "source": [
        "inspect(df_ap_r)"
      ],
      "metadata": {
        "colab": {
          "base_uri": "https://localhost:8080/"
        },
        "id": "vPyJNF9E4KX3",
        "outputId": "074f2f43-557a-4077-d5e0-1184c8d9347c"
      },
      "execution_count": null,
      "outputs": [
        {
          "output_type": "stream",
          "name": "stdout",
          "text": [
            "     lhs                             rhs                             support confidence   coverage      lift count\n",
            "[1]  {Product=Boxer Brief}        => {Brand=New Balance}          0.02129686  0.9107759 0.02338321  1.674756  4226\n",
            "[2]  {Color=LIGHT STEEL}          => {Brand=New Balance}          0.02372085  0.8658940 0.02739464  1.592227  4707\n",
            "[3]  {Product=Pantyhose}          => {Brand=Silkies}              0.03356801  1.0000000 0.03356801 27.396521  6661\n",
            "[4]  {Brand=Silkies}              => {Product=Pantyhose}          0.03356801  0.9196466 0.03650099 27.396521  6661\n",
            "[5]  {Size=3X LARGE}              => {Brand=New Balance}          0.03069550  0.8726361 0.03517560  1.604624  6091\n",
            "[6]  {Size=2X LARGE}              => {Brand=New Balance}          0.05945584  0.8095794 0.07344041  1.488674 11798\n",
            "[7]  {Color=ASSORTED}             => {Brand=New Balance}          0.07562754  0.9121687 0.08290960  1.677318 15007\n",
            "[8]  {Product=Underwire}          => {Brand=Nike}                 0.10599547  0.8783880 0.12067045  4.492530 21033\n",
            "[9]  {Product=Crewneck}           => {Brand=New Balance}          0.19786527  0.8365043 0.23653828  1.538184 39263\n",
            "[10] {Brand=Nike,                                                                                                 \n",
            "      Product=Sports Bra}         => {Sales_Amount=[22,1.03e+03]} 0.02009746  0.8182191 0.02456245  2.304016  3988\n",
            "[11] {Product=Crewneck,                                                                                           \n",
            "      Size=2X LARGE}              => {Brand=New Balance}          0.02832190  0.9121896 0.03104826  1.677356  5620\n",
            "[12] {Size=2X LARGE,                                                                                              \n",
            "      Sales_Amount=[0,11)}        => {Brand=New Balance}          0.02933484  0.9725982 0.03016131  1.788437  5821\n",
            "[13] {Color=ASSORTED,                                                                                             \n",
            "      Sales_Amount=[22,1.03e+03]} => {Brand=New Balance}          0.02940035  0.8942367 0.03287760  1.644344  5834\n",
            "[14] {Color=ASSORTED,                                                                                             \n",
            "      Sales_Amount=[11,22)}       => {Brand=New Balance}          0.03919711  0.9170007 0.04274491  1.686203  7778\n",
            "[15] {Product=Crewneck,                                                                                           \n",
            "      OrderMonth=04}              => {Brand=New Balance}          0.02128174  0.8754146 0.02431047  1.609733  4223\n",
            "[16] {Product=Crewneck,                                                                                           \n",
            "      OrderMonth=05}              => {Brand=New Balance}          0.02077779  0.8534465 0.02434575  1.569338  4123\n",
            "[17] {Product=Crewneck,                                                                                           \n",
            "      Size=MEDIUM}                => {Brand=New Balance}          0.02860915  0.8828927 0.03240388  1.623484  5677\n",
            "[18] {Size=MEDIUM,                                                                                                \n",
            "      Sales_Amount=[0,11)}        => {Brand=New Balance}          0.03256515  0.9422572 0.03456078  1.732645  6462\n",
            "[19] {Product=Crewneck,                                                                                           \n",
            "      Color=BLACK}                => {Brand=New Balance}          0.02068204  0.8671033 0.02385188  1.594450  4104\n",
            "[20] {Brand=Nike,                                                                                                 \n",
            "      Color=WHITE}                => {Sales_Amount=[22,1.03e+03]} 0.02360998  0.8197725 0.02880065  2.308390  4685\n",
            "[21] {Product=Crewneck,                                                                                           \n",
            "      Color=WHITE}                => {Brand=New Balance}          0.02370573  0.9042676 0.02621540  1.662789  4704\n",
            "[22] {Product=Crewneck,                                                                                           \n",
            "      Size=X LARGE}               => {Brand=New Balance}          0.04388887  0.9174128 0.04783983  1.686961  8709\n",
            "[23] {Size=X LARGE,                                                                                               \n",
            "      Sales_Amount=[0,11)}        => {Brand=New Balance}          0.04380320  0.9635295 0.04546119  1.771761  8692\n",
            "[24] {Product=Underwire,                                                                                          \n",
            "      Sales_Amount=[22,1.03e+03]} => {Brand=Nike}                 0.08351433  0.9308544 0.08971794  4.760870 16572\n",
            "[25] {Product=Crewneck,                                                                                           \n",
            "      Size=LARGE}                 => {Brand=New Balance}          0.04579883  0.9162214 0.04998665  1.684770  9088\n",
            "[26] {Size=LARGE,                                                                                                 \n",
            "      Sales_Amount=[0,11)}        => {Brand=New Balance}          0.04749714  0.9529828 0.04984050  1.752368  9425\n",
            "[27] {Product=Crewneck,                                                                                           \n",
            "      Sales_Amount=[0,11)}        => {Brand=New Balance}          0.11643225  0.8870460 0.13125841  1.631121 23104\n",
            "[28] {Product=Crewneck,                                                                                           \n",
            "      Size=X LARGE,                                                                                               \n",
            "      Sales_Amount=[0,11)}        => {Brand=New Balance}          0.02596846  0.9798441 0.02650265  1.801761  5153\n",
            "[29] {Product=Crewneck,                                                                                           \n",
            "      Size=LARGE,                                                                                                 \n",
            "      Sales_Amount=[0,11)}        => {Brand=New Balance}          0.02755086  0.9715657 0.02835718  1.786538  5467\n"
          ]
        }
      ]
    },
    {
      "cell_type": "code",
      "source": [
        "# we have 29 rules\n",
        "# 1st rule -> if transaction contains \"Product=Boxer Brief\" then it is highly likely to be \"Brand=New Balance\"\n",
        "# above combination can be seen for 2.12% (support) of basket\n",
        "# lift (strength of association) tells us that the above combination is almost 2 times more likely to occur"
      ],
      "metadata": {
        "id": "UWK_nGUY5BsC"
      },
      "execution_count": null,
      "outputs": []
    },
    {
      "cell_type": "code",
      "source": [
        "plot(df_ap_r)"
      ],
      "metadata": {
        "colab": {
          "base_uri": "https://localhost:8080/",
          "height": 437
        },
        "id": "Z5jnOFuG4vAE",
        "outputId": "a397b9ba-2df2-48ad-c164-34c3985de63c"
      },
      "execution_count": null,
      "outputs": [
        {
          "output_type": "display_data",
          "data": {
            "text/plain": [
              "plot without title"
            ],
            "image/png": "[encoded data removed]"
          },
          "metadata": {
            "image/png": {
              "width": 420,
              "height": 420
            }
          }
        }
      ]
    },
    {
      "cell_type": "code",
      "source": [
        "# lets look into highest 25 lift rules\n",
        "df_ap_r_high <- head(sort(df_ap_r, by = \"lift\", 25))\n",
        "inspect(df_ap_r_high)"
      ],
      "metadata": {
        "colab": {
          "base_uri": "https://localhost:8080/"
        },
        "id": "wpbYyuAJ6Wq5",
        "outputId": "d12546dd-492b-493a-88b9-fcc672c5636f"
      },
      "execution_count": null,
      "outputs": [
        {
          "output_type": "stream",
          "name": "stdout",
          "text": [
            "    lhs                             rhs                             support confidence   coverage      lift count\n",
            "[1] {Product=Pantyhose}          => {Brand=Silkies}              0.03356801  1.0000000 0.03356801 27.396521  6661\n",
            "[2] {Brand=Silkies}              => {Product=Pantyhose}          0.03356801  0.9196466 0.03650099 27.396521  6661\n",
            "[3] {Product=Underwire,                                                                                          \n",
            "     Sales_Amount=[22,1.03e+03]} => {Brand=Nike}                 0.08351433  0.9308544 0.08971794  4.760870 16572\n",
            "[4] {Product=Underwire}          => {Brand=Nike}                 0.10599547  0.8783880 0.12067045  4.492530 21033\n",
            "[5] {Brand=Nike,                                                                                                 \n",
            "     Color=WHITE}                => {Sales_Amount=[22,1.03e+03]} 0.02360998  0.8197725 0.02880065  2.308390  4685\n",
            "[6] {Brand=Nike,                                                                                                 \n",
            "     Product=Sports Bra}         => {Sales_Amount=[22,1.03e+03]} 0.02009746  0.8182191 0.02456245  2.304016  3988\n"
          ]
        }
      ]
    },
    {
      "cell_type": "code",
      "source": [
        "# plotting key clusters based on lift & support\n",
        "plot(df_ap_r_high, method = \"graph\", control = list(type = \"items\"))"
      ],
      "metadata": {
        "colab": {
          "base_uri": "https://localhost:8080/",
          "height": 672
        },
        "id": "w6C05WqP6q3m",
        "outputId": "c13d93b0-5774-4b67-cc29-0305da766155"
      },
      "execution_count": null,
      "outputs": [
        {
          "output_type": "stream",
          "name": "stderr",
          "text": [
            "Warning message:\n",
            "“Unknown control parameters: type”\n"
          ]
        },
        {
          "output_type": "stream",
          "name": "stdout",
          "text": [
            "Available control parameters (with default values):\n",
            "layout\t =  stress\n",
            "circular\t =  FALSE\n",
            "ggraphdots\t =  NULL\n",
            "edges\t =  <environment>\n",
            "nodes\t =  <environment>\n",
            "nodetext\t =  <environment>\n",
            "colors\t =  c(\"#EE0000FF\", \"#EEEEEEFF\")\n",
            "engine\t =  ggplot2\n",
            "max\t =  100\n",
            "verbose\t =  FALSE\n"
          ]
        },
        {
          "output_type": "display_data",
          "data": {
            "text/plain": [
              "plot without title"
            ],
            "image/png": "[encoded data removed]"
          },
          "metadata": {
            "image/png": {
              "width": 420,
              "height": 420
            }
          }
        }
      ]
    },
    {
      "cell_type": "code",
      "source": [
        "# plotting more interactive plot\n",
        "# not working in jupyter\n",
        "# plot(df_ap_r_high, method = \"graph\", engine = \"interactive\")\n",
        "# # Error in structure(.External(.C_dotTclObjv, objv), class = \"tclObj\"): [tcl] invalid command name \"font\"."
      ],
      "metadata": {
        "id": "YauCTWPT6q0I"
      },
      "execution_count": null,
      "outputs": []
    },
    {
      "cell_type": "code",
      "source": [
        "# with the help of above results, we can suggest crossell or upsell or strategeis like bundles promotions"
      ],
      "metadata": {
        "id": "VSHvCQL36qyK"
      },
      "execution_count": null,
      "outputs": []
    },
    {
      "cell_type": "code",
      "source": [],
      "metadata": {
        "id": "R80r-qu_-UkG"
      },
      "execution_count": null,
      "outputs": []
    }
  ]
}